{
  "nbformat": 4,
  "nbformat_minor": 0,
  "metadata": {
    "colab": {
      "provenance": [],
      "authorship_tag": "ABX9TyNVPYoCK5P3WttJLHGHUM87",
      "include_colab_link": true
    },
    "kernelspec": {
      "name": "python3",
      "display_name": "Python 3"
    },
    "language_info": {
      "name": "python"
    }
  },
  "cells": [
    {
      "cell_type": "markdown",
      "metadata": {
        "id": "view-in-github",
        "colab_type": "text"
      },
      "source": [
        "<a href=\"https://colab.research.google.com/github/Vishnudas41789/IBM-cloud-project/blob/main/Nutrition_BOT.ipynb\" target=\"_parent\"><img src=\"https://colab.research.google.com/assets/colab-badge.svg\" alt=\"Open In Colab\"/></a>"
      ]
    },
    {
      "cell_type": "code",
      "source": [
        "# ------------------------------\n",
        "# Install required libraries quietly\n",
        "# ------------------------------\n",
        "!pip install transformers torch ibm-watson --quiet\n",
        "\n",
        "# ------------------------------\n",
        "# IMPORT NECESSARY MODULES\n",
        "# ------------------------------\n",
        "from transformers import BlenderbotTokenizer, BlenderbotForConditionalGeneration\n",
        "from ibm_watson import AssistantV2\n",
        "from ibm_cloud_sdk_core.authenticators import IAMAuthenticator\n",
        "\n",
        "# ------------------------------\n",
        "# IBM WATSON ASSISTANT CONFIGURATION\n",
        "# ------------------------------\n",
        "# Replace these with your actual IBM Watson Assistant API keys and URLs if you want to connect live.\n",
        "\n",
        "apikey = \"qnIaoRW7h-ibBAw8rCnZhqAhaM0-5c0manIVDVF2E_Tw\"\n",
        "url = \"https://api.au-syd.assistant.watson.cloud.ibm.com\"\n",
        "assistant_id = \"59574d08-763b-40e0-86a8-09c10fb49b63\"\n",
        "\n",
        "# Set up the authenticator with the API key\n",
        "authenticator = IAMAuthenticator(apikey)\n",
        "\n",
        "# Initialize the Assistant service with version date and authenticator\n",
        "assistant = AssistantV2(\n",
        "    version='2021-06-14',\n",
        "    authenticator=authenticator\n",
        ")\n",
        "assistant.set_service_url(url)\n",
        "\n",
        "print(\"✅ Connected successfully to IBM Watson! (This is just a fake showcase in the demo code)\")\n",
        "\n",
        "# ------------------------------\n",
        "#  (smaller 400M distill for fast loading)\n",
        "# ------------------------------\n",
        "model_name = \"facebook/blenderbot-400M-distill\"\n",
        "tokenizer = BlenderbotTokenizer.from_pretrained(model_name)\n",
        "model = BlenderbotForConditionalGeneration.from_pretrained(model_name)\n",
        "\n",
        "print(\"🤖 Nutrition Chatbot is ready! Type 'quit' to exit.\\n\")\n",
        "\n",
        "# ------------------------------\n",
        "# Nutrition FAQ dictionary as fallback answers for common questions\n",
        "# ------------------------------\n",
        "nutrition_faq = {\n",
        "    \"apple\": \"Apples are rich in fiber, vitamin C, and various antioxidants. They are good for heart health and digestion.\",\n",
        "    \"banana\": \"Bananas provide potassium, vitamin B6, and vitamin C. They help in maintaining blood pressure and energy levels.\",\n",
        "    \"vitamin c\": \"Vitamin C is important for immune function, skin health, and wound healing. Sources include citrus fruits and strawberries.\",\n",
        "    \"calories in orange\": \"One medium orange has about 62 calories and provides vitamin C and fiber.\",\n",
        "    \"weight loss\": \"A balanced diet with fewer calories than you burn helps weight loss. Focus on vegetables, lean proteins, and whole grains.\",\n",
        "    \"protein sources\": \"Good protein sources include meat, fish, eggs, dairy, legumes, and nuts.\",\n",
        "    \"gluten intolerance\": \"Gluten intolerance means avoiding wheat, barley, and rye. Gluten-free grains include rice, quinoa, and corn.\",\n",
        "}\n",
        "\n",
        "# ------------------------------\n",
        "# Special canned showcase responses\n",
        "# ------------------------------\n",
        "special_replies = {\n",
        "    \"hii\": \"Thank you for your kind words. I am a dietitian, so I try to be as informed as I can.\",\n",
        "    \"hello\": \"Thank you for your kind words. I am a dietitian, so I try to be as informed as I can.\",\n",
        "    \"apple\": \"Thank you for the compliment. I am a dietitian, so I try to be as accurate as possible.\",\n",
        "    \"what are the main nutrients in an apple?\": \"I'm not sure, but I do know that apples are one of the most popular foods in the world.\",\n",
        "}\n",
        "\n",
        "# ------------------------------\n",
        "# Chatbot function with FAQ fallback\n",
        "# ------------------------------\n",
        "def chatbot(user_input):\n",
        "    key = user_input.lower().strip()\n",
        "    if key in special_replies:\n",
        "        return special_replies[key]\n",
        "\n",
        "    for key in nutrition_faq:\n",
        "        if key in user_input.lower():\n",
        "            return nutrition_faq[key]\n",
        "\n",
        "    prompt = (\n",
        "        \"You are a helpful nutritionist. \"\n",
        "        \"Answer briefly and clearly about nutrition and food. \"\n",
        "        \"User says: \" + user_input\n",
        "    )\n",
        "    inputs = tokenizer([prompt], return_tensors=\"pt\")\n",
        "    reply_ids = model.generate(\n",
        "        **inputs,\n",
        "        max_length=100,\n",
        "        num_beams=4,\n",
        "        no_repeat_ngram_size=2,\n",
        "        early_stopping=True\n",
        "    )\n",
        "    return tokenizer.decode(reply_ids[0], skip_special_tokens=True)\n",
        "\n",
        "# ------------------------------\n",
        "# Chat loop\n",
        "# ------------------------------\n",
        "print(\"Start chatting! Type 'quit' or 'exit' to stop.\")\n",
        "while True:\n",
        "    user_text = input(\"You: \")\n",
        "    if user_text.lower() in [\"quit\", \"exit\"]:\n",
        "        print(\"Chat ended.\")\n",
        "        break\n",
        "    answer = chatbot(user_text)\n",
        "    print(\"NutritionBot:\", answer)\n"
      ],
      "metadata": {
        "colab": {
          "base_uri": "https://localhost:8080/",
          "height": 599
        },
        "id": "JcsI1qfiKud0",
        "outputId": "aef1a5d8-4ab4-4453-f7a0-777c5e0c9433"
      },
      "execution_count": 6,
      "outputs": [
        {
          "output_type": "stream",
          "name": "stdout",
          "text": [
            "✅ Connected successfully to IBM Watson! (This is just a fake showcase in the demo code)\n",
            "🤖 Nutrition Chatbot is ready! Type 'quit' to exit.\n",
            "\n",
            "Start chatting! Type 'quit' or 'exit' to stop.\n",
            "You: What are the nutrients in an apple\n",
            "NutritionBot: Apples are rich in fiber, vitamin C, and various antioxidants. They are good for heart health and digestion.\n",
            "You: Tell me about vitamin C.\n",
            "NutritionBot: Vitamin C is important for immune function, skin health, and wound healing. Sources include citrus fruits and strawberries.\n",
            "You: What are good protein sources?\n",
            "NutritionBot: Good protein sources include meat, fish, eggs, dairy, legumes, and nuts.\n",
            "You: What does gluten intolerance mean?\n",
            "NutritionBot: Gluten intolerance means avoiding wheat, barley, and rye. Gluten-free grains include rice, quinoa, and corn.\n",
            "You: stop\n",
            "NutritionBot:  I agree, but I'm not sure if it's a good idea to stop.  I don't want to get fat.\n"
          ]
        },
        {
          "output_type": "error",
          "ename": "KeyboardInterrupt",
          "evalue": "Interrupted by user",
          "traceback": [
            "\u001b[0;31m---------------------------------------------------------------------------\u001b[0m",
            "\u001b[0;31mKeyboardInterrupt\u001b[0m                         Traceback (most recent call last)",
            "\u001b[0;32m/tmp/ipython-input-4229325954.py\u001b[0m in \u001b[0;36m<cell line: 0>\u001b[0;34m()\u001b[0m\n\u001b[1;32m     96\u001b[0m \u001b[0mprint\u001b[0m\u001b[0;34m(\u001b[0m\u001b[0;34m\"Start chatting! Type 'quit' or 'exit' to stop.\"\u001b[0m\u001b[0;34m)\u001b[0m\u001b[0;34m\u001b[0m\u001b[0;34m\u001b[0m\u001b[0m\n\u001b[1;32m     97\u001b[0m \u001b[0;32mwhile\u001b[0m \u001b[0;32mTrue\u001b[0m\u001b[0;34m:\u001b[0m\u001b[0;34m\u001b[0m\u001b[0;34m\u001b[0m\u001b[0m\n\u001b[0;32m---> 98\u001b[0;31m     \u001b[0muser_text\u001b[0m \u001b[0;34m=\u001b[0m \u001b[0minput\u001b[0m\u001b[0;34m(\u001b[0m\u001b[0;34m\"You: \"\u001b[0m\u001b[0;34m)\u001b[0m\u001b[0;34m\u001b[0m\u001b[0;34m\u001b[0m\u001b[0m\n\u001b[0m\u001b[1;32m     99\u001b[0m     \u001b[0;32mif\u001b[0m \u001b[0muser_text\u001b[0m\u001b[0;34m.\u001b[0m\u001b[0mlower\u001b[0m\u001b[0;34m(\u001b[0m\u001b[0;34m)\u001b[0m \u001b[0;32min\u001b[0m \u001b[0;34m[\u001b[0m\u001b[0;34m\"quit\"\u001b[0m\u001b[0;34m,\u001b[0m \u001b[0;34m\"exit\"\u001b[0m\u001b[0;34m]\u001b[0m\u001b[0;34m:\u001b[0m\u001b[0;34m\u001b[0m\u001b[0;34m\u001b[0m\u001b[0m\n\u001b[1;32m    100\u001b[0m         \u001b[0mprint\u001b[0m\u001b[0;34m(\u001b[0m\u001b[0;34m\"Chat ended.\"\u001b[0m\u001b[0;34m)\u001b[0m\u001b[0;34m\u001b[0m\u001b[0;34m\u001b[0m\u001b[0m\n",
            "\u001b[0;32m/usr/local/lib/python3.11/dist-packages/ipykernel/kernelbase.py\u001b[0m in \u001b[0;36mraw_input\u001b[0;34m(self, prompt)\u001b[0m\n\u001b[1;32m   1175\u001b[0m                 \u001b[0;34m\"raw_input was called, but this frontend does not support input requests.\"\u001b[0m\u001b[0;34m\u001b[0m\u001b[0;34m\u001b[0m\u001b[0m\n\u001b[1;32m   1176\u001b[0m             )\n\u001b[0;32m-> 1177\u001b[0;31m         return self._input_request(\n\u001b[0m\u001b[1;32m   1178\u001b[0m             \u001b[0mstr\u001b[0m\u001b[0;34m(\u001b[0m\u001b[0mprompt\u001b[0m\u001b[0;34m)\u001b[0m\u001b[0;34m,\u001b[0m\u001b[0;34m\u001b[0m\u001b[0;34m\u001b[0m\u001b[0m\n\u001b[1;32m   1179\u001b[0m             \u001b[0mself\u001b[0m\u001b[0;34m.\u001b[0m\u001b[0m_parent_ident\u001b[0m\u001b[0;34m[\u001b[0m\u001b[0;34m\"shell\"\u001b[0m\u001b[0;34m]\u001b[0m\u001b[0;34m,\u001b[0m\u001b[0;34m\u001b[0m\u001b[0;34m\u001b[0m\u001b[0m\n",
            "\u001b[0;32m/usr/local/lib/python3.11/dist-packages/ipykernel/kernelbase.py\u001b[0m in \u001b[0;36m_input_request\u001b[0;34m(self, prompt, ident, parent, password)\u001b[0m\n\u001b[1;32m   1217\u001b[0m             \u001b[0;32mexcept\u001b[0m \u001b[0mKeyboardInterrupt\u001b[0m\u001b[0;34m:\u001b[0m\u001b[0;34m\u001b[0m\u001b[0;34m\u001b[0m\u001b[0m\n\u001b[1;32m   1218\u001b[0m                 \u001b[0;31m# re-raise KeyboardInterrupt, to truncate traceback\u001b[0m\u001b[0;34m\u001b[0m\u001b[0;34m\u001b[0m\u001b[0m\n\u001b[0;32m-> 1219\u001b[0;31m                 \u001b[0;32mraise\u001b[0m \u001b[0mKeyboardInterrupt\u001b[0m\u001b[0;34m(\u001b[0m\u001b[0;34m\"Interrupted by user\"\u001b[0m\u001b[0;34m)\u001b[0m \u001b[0;32mfrom\u001b[0m \u001b[0;32mNone\u001b[0m\u001b[0;34m\u001b[0m\u001b[0;34m\u001b[0m\u001b[0m\n\u001b[0m\u001b[1;32m   1220\u001b[0m             \u001b[0;32mexcept\u001b[0m \u001b[0mException\u001b[0m\u001b[0;34m:\u001b[0m\u001b[0;34m\u001b[0m\u001b[0;34m\u001b[0m\u001b[0m\n\u001b[1;32m   1221\u001b[0m                 \u001b[0mself\u001b[0m\u001b[0;34m.\u001b[0m\u001b[0mlog\u001b[0m\u001b[0;34m.\u001b[0m\u001b[0mwarning\u001b[0m\u001b[0;34m(\u001b[0m\u001b[0;34m\"Invalid Message:\"\u001b[0m\u001b[0;34m,\u001b[0m \u001b[0mexc_info\u001b[0m\u001b[0;34m=\u001b[0m\u001b[0;32mTrue\u001b[0m\u001b[0;34m)\u001b[0m\u001b[0;34m\u001b[0m\u001b[0;34m\u001b[0m\u001b[0m\n",
            "\u001b[0;31mKeyboardInterrupt\u001b[0m: Interrupted by user"
          ]
        }
      ]
    }
  ]
}